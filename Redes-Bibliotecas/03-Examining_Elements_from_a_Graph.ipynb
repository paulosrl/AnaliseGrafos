{
  "cells": [
    {
      "cell_type": "markdown",
      "metadata": {
        "id": "GguAqn25Q3Q9"
      },
      "source": [
        "##Import of Libraries"
      ]
    },
    {
      "cell_type": "code",
      "execution_count": 2,
      "metadata": {
        "id": "C6GRzt65Q6Hx"
      },
      "outputs": [],
      "source": [
        "import networkx as nx\n",
        "import matplotlib.pyplot as plt"
      ]
    },
    {
      "cell_type": "markdown",
      "metadata": {
        "id": "I0KrlxfQ7OKZ"
      },
      "source": [
        "##Examining Elements"
      ]
    },
    {
      "cell_type": "code",
      "execution_count": 8,
      "metadata": {
        "colab": {
          "base_uri": "https://localhost:8080/",
          "height": 248
        },
        "id": "l1za7s5N7Pzt",
        "outputId": "bb7b63ae-abfe-4452-9096-f34954b209b1"
      },
      "outputs": [
        {
          "data": {
            "image/png": "[encoded data removed]",
            "text/plain": [
              "<Figure size 640x480 with 1 Axes>"
            ]
          },
          "metadata": {},
          "output_type": "display_data"
        }
      ],
      "source": [
        "G = nx.Graph()\n",
        "# adiciona o nó 1\n",
        "G.add_node(1)\n",
        "# adiciona os nós 2 e 3 do vetor\n",
        "G.add_nodes_from([2,3])\n",
        "# adiciona a aresta 1,2\n",
        "G.add_edge(1,2)\n",
        "# adiciona a aresta 1,3\n",
        "G.add_edge(1,3)\n",
        "# adiciona a aresta 1,4\n",
        "G.add_edge(1,4)\n",
        "# adiciona os nós a partir de uma string \"paper\", elimina a segunda letra \"p\" (agrupa letras iguais) \n",
        "G.add_nodes_from(\"paper\")\n",
        "# adiciona a aresta 3,'p'\n",
        "G.add_edge(3,'p')\n",
        "# desenha o grafo\n",
        "nx.draw_networkx(G)"
      ]
    },
    {
      "cell_type": "code",
      "execution_count": 9,
      "metadata": {
        "colab": {
          "base_uri": "https://localhost:8080/"
        },
        "id": "l2zpD9mN8Tj0",
        "outputId": "259bbc2a-4ee0-4c04-eff0-2ea2947f86a0"
      },
      "outputs": [
        {
          "data": {
            "text/plain": [
              "[1, 2, 3, 4, 'p', 'a', 'e', 'r']"
            ]
          },
          "execution_count": 9,
          "metadata": {},
          "output_type": "execute_result"
        }
      ],
      "source": [
        "# lista os nós do grafo\n",
        "list(G.nodes)"
      ]
    },
    {
      "cell_type": "code",
      "execution_count": 5,
      "metadata": {
        "colab": {
          "base_uri": "https://localhost:8080/"
        },
        "id": "IJGA5nSM8hvx",
        "outputId": "9c73625d-777c-4214-fae3-503809ca6359"
      },
      "outputs": [
        {
          "data": {
            "text/plain": [
              "[(1, 2), (1, 3), (1, 4), (3, 'p')]"
            ]
          },
          "execution_count": 5,
          "metadata": {},
          "output_type": "execute_result"
        }
      ],
      "source": [
        "# lista as arestas do grafo\n",
        "list(G.edges)"
      ]
    },
    {
      "cell_type": "code",
      "execution_count": 6,
      "metadata": {
        "colab": {
          "base_uri": "https://localhost:8080/"
        },
        "id": "peDOV5T88jyG",
        "outputId": "109cf793-2355-464e-dfd6-90ec106346f9"
      },
      "outputs": [
        {
          "data": {
            "text/plain": [
              "[2, 3, 4]"
            ]
          },
          "execution_count": 6,
          "metadata": {},
          "output_type": "execute_result"
        }
      ],
      "source": [
        "# lista os nós adjacentes ao nó 1\n",
        "list(G.adj[1])"
      ]
    },
    {
      "cell_type": "code",
      "execution_count": 7,
      "metadata": {
        "colab": {
          "base_uri": "https://localhost:8080/"
        },
        "id": "8NPMRYrD8-Hd",
        "outputId": "c4efcb1a-5ee2-46e4-c3c5-ab4beefbbd98"
      },
      "outputs": [
        {
          "data": {
            "text/plain": [
              "3"
            ]
          },
          "execution_count": 7,
          "metadata": {},
          "output_type": "execute_result"
        }
      ],
      "source": [
        "# calcula o grau do nó 1\n",
        "G.degree[1]"
      ]
    }
  ],
  "metadata": {
    "colab": {
      "provenance": []
    },
    "kernelspec": {
      "display_name": "Python 3",
      "name": "python3"
    },
    "language_info": {
      "codemirror_mode": {
        "name": "ipython",
        "version": 3
      },
      "file_extension": ".py",
      "mimetype": "text/x-python",
      "name": "python",
      "nbconvert_exporter": "python",
      "pygments_lexer": "ipython3",
      "version": "3.11.6"
    }
  },
  "nbformat": 4,
  "nbformat_minor": 0
}
