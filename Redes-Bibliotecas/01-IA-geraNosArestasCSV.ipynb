{
  "cells": [
    {
      "cell_type": "code",
      "execution_count": 8,
      "metadata": {
        "colab": {
          "base_uri": "https://localhost:8080/",
          "height": 533
        },
        "id": "NqdV7o6Hd7Ge",
        "outputId": "07baa2df-b388-4ba4-b2a8-5827761f6cca"
      },
      "outputs": [],
      "source": [
        "# Este código gerado por IA. Foram feitas algumas adaptações para a geração do grafo.\n",
        "# prompt utilizado: \n",
        "# gere dois arquivos csv em python, o primeiro arquivo deverá conter 10 nós de um grafo, \n",
        "# o segundo arquivo csv deverá conter 9 arestas que conectam os nós. \n",
        "\n",
        "# Importar a biblioteca pandas para manipular arquivos csv\n",
        "import pandas as pd\n",
        "\n",
        "# Criar uma lista com os nomes dos nós do grafo\n",
        "nos = ['A', 'B', 'C', 'D', 'E', 'F', 'G', 'H', 'I', 'J']\n",
        "\n",
        "# Criar um dataframe com uma coluna chamada 'nó' com os nomes dos nós\n",
        "nos_df = pd.DataFrame(nos, columns=['no'])\n",
        "\n",
        "# Salvar o dataframe como um arquivo csv chamado 'nós.csv'\n",
        "nos_df.to_csv('nos.csv', index=False)\n",
        "\n",
        "# Criar uma lista com as arestas do grafo\n",
        "# Cada aresta é uma tupla com o nome do nó de origem e o nome do nó de destino\n",
        "arestas = [('A', 'B'), ('A', 'C'), ('B', 'D'), ('C', 'E'), ('D', 'F'), \n",
        "           ('E', 'G'), ('F', 'H'), ('H', 'I'),('I', 'J'), ('J', 'G'),\n",
        "           ('A','G'),('B','I'),('D','J')]\n",
        "\n",
        "# Criar um dataframe com duas colunas chamadas 'origem' e 'destino' com os nomes dos nós conectados por cada aresta\n",
        "arestas_df = pd.DataFrame(arestas, columns=['origem', 'destino'])\n",
        "\n",
        "# Salvar o dataframe como um arquivo csv chamado 'arestas.csv'\n",
        "arestas_df.to_csv('arestas.csv', index=False)"
      ]
    }
  ],
  "metadata": {
    "colab": {
      "provenance": []
    },
    "kernelspec": {
      "display_name": "Python 3",
      "name": "python3"
    },
    "language_info": {
      "codemirror_mode": {
        "name": "ipython",
        "version": 3
      },
      "file_extension": ".py",
      "mimetype": "text/x-python",
      "name": "python",
      "nbconvert_exporter": "python",
      "pygments_lexer": "ipython3",
      "version": "3.11.6"
    }
  },
  "nbformat": 4,
  "nbformat_minor": 0
}
