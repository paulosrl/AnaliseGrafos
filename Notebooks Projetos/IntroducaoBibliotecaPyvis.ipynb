{
 "cells": [
  {
   "cell_type": "markdown",
   "metadata": {},
   "source": [
    "# Uma introdução as bibliotecas pyvis e Ipysigma\n",
    "\n",
    "## A biblioteca pyvis\n",
    "\n",
    "* Permite criar e visualizar grafos interativos em HTML;\n",
    "* Baseada na biblioteca JavaScript visJS;\n",
    "* Oferece diversas opções de layout, estilo, interação e animação para os grafos;\n",
    "* Pode ser utilizada com outras bibliotecas de análise de grafos do python, como networkx, igraph e graph-tool;\n",
    "* Permite exportar os grafos em HTML e visualizá-los em qualquer navegador.\n",
    "\n",
    "Referências:\n",
    "\n",
    "GitHub - WestHealth/pyvis: Python package for creating and visualizing interactive network graphs\n",
    "\n",
    "https://github.com/WestHealth/pyvis\n",
    "\n",
    "Tutorial - GitHub: Let’s build from here\n",
    "\n",
    "https://github.com/WestHealth/pyvis/blob/master/pyvis/source/tutorial.rst\n",
    "\n",
    "Pyvis Documentation\n",
    "\n",
    "http://pyvis.readthedocs.io/en/latest/\n",
    "\n",
    "## Redes homogêneas não direcionadas \n",
    "\n",
    "Possuem as seguintes características:\n",
    "\n",
    "* São homogêneas porque todos os nós e todas as arestas são do mesmo tipo;\n",
    "\n",
    "    Por exemplo, uma rede de amigos no Facebook é homogênea, pois todos os nós são pessoas e todas as arestas são relações de amizade.\n",
    "* São não direcionadas porque as arestas não têm orientação, não há diferença entre ir de um nó para outro ou vice-versa; \n",
    "\n",
    "    Por exemplo, uma rede de estradas é não direcionada, pois se pode ir de uma cidade para outra em ambos os sentidos.\n",
    "\n",
    "* São grafos porque são estruturas matemáticas que representam conjuntos de objetos (nós) e suas relações (arestas); \n",
    "\n",
    "    Por exemplo, um grafo pode ser usado para modelar uma rede social, uma rede elétrica, uma rede de computadores, etc.\n",
    "\n",
    "## Redes Heterogêneas e Dirigidas\n",
    "\n",
    "Possuem as seguintes características:\n",
    "\n",
    "* São heterogêneas porque os nós e as arestas podem ser de tipos diferentes; \n",
    "\n",
    "    Por exemplo, uma rede de citações bibliográficas é heterogênea, pois os nós podem ser autores, artigos, livros, etc. e as arestas podem ser citações, co-autorias, referências, etc.\n",
    "\n",
    "* São dirigidas porque as arestas têm orientação, há diferença entre ir de um nó para outro ou vice-versa;\n",
    "\n",
    "    Por exemplo, uma rede de e-mails é dirigida, é possível enviar ou receber e-mails de outras pessoas.\n",
    "\n",
    "* E como em redes homogêneas, também são grafos pois representam conjuntos de objetos (nós) e suas relações (arestas).\n",
    "\n",
    "![Redes não direcionadas x direciondas](redes.png)\n"
   ]
  },
  {
   "cell_type": "markdown",
   "metadata": {},
   "source": [
    "## Criando um grafo vazio\n",
    "\n",
    "Para exibir o grafo no Jupyter Notebook, configure o parâmetero como True."
   ]
  },
  {
   "cell_type": "code",
   "execution_count": 18,
   "metadata": {},
   "outputs": [],
   "source": [
    "# importar se for usar em conjunto com a biblioteca NetworkX\n",
    "from pyvis.network import Network"
   ]
  },
  {
   "cell_type": "code",
   "execution_count": 19,
   "metadata": {},
   "outputs": [],
   "source": [
    "# Instancia o grafo G (vazio, o parâmetro notebook=True é para visualizar no Jupyter Notebook)\n",
    "G = Network(notebook=True,cdn_resources='in_line')"
   ]
  },
  {
   "cell_type": "markdown",
   "metadata": {},
   "source": [
    "## Grafo não direcionado - inserção de nós"
   ]
  },
  {
   "cell_type": "code",
   "execution_count": 20,
   "metadata": {},
   "outputs": [],
   "source": [
    "# adiciona os nós ao grafo\n",
    "# add_nome adiciona nós individuais\n",
    "G.add_node(\"Singapore\")\n",
    "G.add_node(\"San Francisco\")\n",
    "G.add_node(\"Tokyo\")\n",
    "# add_nodes adiciona vários nós a partir de uma lista\n",
    "G.add_nodes([\"Riga\", \"Copenhagen\"],\n",
    "              color=['lightgreen', 'yellow'])"
   ]
  },
  {
   "cell_type": "code",
   "execution_count": 21,
   "metadata": {},
   "outputs": [
    {
     "name": "stdout",
     "output_type": "stream",
     "text": [
      "G01.html\n"
     ]
    },
    {
     "data": {
      "text/html": [
       "\n",
       "        <iframe\n",
       "            width=\"100%\"\n",
       "            height=\"600px\"\n",
       "            src=\"G01.html\"\n",
       "            frameborder=\"0\"\n",
       "            allowfullscreen\n",
       "            \n",
       "        ></iframe>\n",
       "        "
      ],
      "text/plain": [
       "<IPython.lib.display.IFrame at 0x297a7dfdbd0>"
      ]
     },
     "execution_count": 21,
     "metadata": {},
     "output_type": "execute_result"
    }
   ],
   "source": [
    "G.show('G01.html')\n"
   ]
  },
  {
   "cell_type": "markdown",
   "metadata": {},
   "source": [
    "## Visualização do grafo"
   ]
  },
  {
   "cell_type": "markdown",
   "metadata": {},
   "source": [
    "## Adicionando arestas aos nós"
   ]
  },
  {
   "cell_type": "code",
   "execution_count": 22,
   "metadata": {},
   "outputs": [],
   "source": [
    "# adiciona uma aresta\n",
    "G.add_edge(\"Singapore\",\"San Francisco\") \n",
    "G.add_edge(\"San Francisco\",\"Tokyo\")\n",
    "# adiciona várias arestas de uma lista\n",
    "G.add_edges(\n",
    "    [\n",
    "        (\"Riga\",\"Copenhagen\"),\n",
    "        (\"Copenhagen\",\"Singapore\"),\n",
    "        (\"Singapore\",\"Tokyo\"),\n",
    "        (\"Riga\",\"San Francisco\"),\n",
    "        (\"San Francisco\",\"Singapore\"),\n",
    "    ]\n",
    ")"
   ]
  },
  {
   "cell_type": "code",
   "execution_count": 23,
   "metadata": {},
   "outputs": [
    {
     "name": "stdout",
     "output_type": "stream",
     "text": [
      "G02.html\n"
     ]
    },
    {
     "data": {
      "text/html": [
       "\n",
       "        <iframe\n",
       "            width=\"100%\"\n",
       "            height=\"600px\"\n",
       "            src=\"G02.html\"\n",
       "            frameborder=\"0\"\n",
       "            allowfullscreen\n",
       "            \n",
       "        ></iframe>\n",
       "        "
      ],
      "text/plain": [
       "<IPython.lib.display.IFrame at 0x297a55a0110>"
      ]
     },
     "execution_count": 23,
     "metadata": {},
     "output_type": "execute_result"
    }
   ],
   "source": [
    "G.show('G02.html')"
   ]
  },
  {
   "cell_type": "markdown",
   "metadata": {},
   "source": [
    "## Grafos direcionados"
   ]
  },
  {
   "cell_type": "code",
   "execution_count": 24,
   "metadata": {},
   "outputs": [
    {
     "name": "stdout",
     "output_type": "stream",
     "text": [
      "Warning: When  cdn_resources is 'local' jupyter notebook has issues displaying graphics on chrome/safari. Use cdn_resources='in_line' or cdn_resources='remote' if you have issues viewing graphics in a notebook.\n"
     ]
    }
   ],
   "source": [
    "# usar o parâmetro directed=True\n",
    "GD = Network(\n",
    "    directed=True,\n",
    "    notebook=True\n",
    ")\n",
    "# show_buttons adiciona botões para manipular o grafo\n",
    "GD.show_buttons(filter_=['physics'])"
   ]
  },
  {
   "cell_type": "code",
   "execution_count": 25,
   "metadata": {},
   "outputs": [],
   "source": [
    "# adiciona os nós ao grafo\n",
    "# add_nome adiciona nós individuais\n",
    "\n",
    "GD.add_node(1,label=\"Singapore\")\n",
    "GD.add_node(2,label= \"San Francisco\")\n",
    "GD.add_node(3,label=\"Tokyo\")\n",
    "# add_nodes adiciona vários nós a partir de uma lista\n",
    "GD.add_nodes([4,5],\n",
    "              color=['lightgreen', 'yellow'],\n",
    "              label=['Riga','Copenhagen'])"
   ]
  },
  {
   "cell_type": "code",
   "execution_count": 26,
   "metadata": {},
   "outputs": [
    {
     "data": {
      "text/plain": [
       "[{'color': '#97c2fc', 'id': 1, 'label': 'Singapore', 'shape': 'dot'},\n",
       " {'color': '#97c2fc', 'id': 2, 'label': 'San Francisco', 'shape': 'dot'},\n",
       " {'color': '#97c2fc', 'id': 3, 'label': 'Tokyo', 'shape': 'dot'},\n",
       " {'color': 'lightgreen', 'id': 4, 'label': 'Riga', 'shape': 'dot'},\n",
       " {'color': 'yellow', 'id': 5, 'label': 'Copenhagen', 'shape': 'dot'}]"
      ]
     },
     "execution_count": 26,
     "metadata": {},
     "output_type": "execute_result"
    }
   ],
   "source": [
    "# detalha os nós\n",
    "GD.nodes"
   ]
  },
  {
   "cell_type": "markdown",
   "metadata": {},
   "source": [
    "## Adição de arestas aos nós"
   ]
  },
  {
   "cell_type": "code",
   "execution_count": 27,
   "metadata": {},
   "outputs": [],
   "source": [
    "# adiciona uma aresta\n",
    "GD.add_edge(1,2) \n",
    "GD.add_edge(2,3)\n",
    "# adiciona várias arestas de uma lista\n",
    "GD.add_edges(\n",
    "    [\n",
    "        (4,5),\n",
    "        (5,1),\n",
    "        (1,3),\n",
    "        (4,2),\n",
    "        (2,1),\n",
    "    ]\n",
    ")"
   ]
  },
  {
   "cell_type": "code",
   "execution_count": 28,
   "metadata": {},
   "outputs": [
    {
     "name": "stdout",
     "output_type": "stream",
     "text": [
      "G03.html\n"
     ]
    },
    {
     "data": {
      "text/html": [
       "\n",
       "        <iframe\n",
       "            width=\"100%\"\n",
       "            height=\"600px\"\n",
       "            src=\"G03.html\"\n",
       "            frameborder=\"0\"\n",
       "            allowfullscreen\n",
       "            \n",
       "        ></iframe>\n",
       "        "
      ],
      "text/plain": [
       "<IPython.lib.display.IFrame at 0x297a61bc4d0>"
      ]
     },
     "execution_count": 28,
     "metadata": {},
     "output_type": "execute_result"
    }
   ],
   "source": [
    "GD.show('G03.html')"
   ]
  },
  {
   "cell_type": "markdown",
   "metadata": {},
   "source": [
    "## Ajustes no grafo (visualização/repulsão)"
   ]
  },
  {
   "cell_type": "code",
   "execution_count": 29,
   "metadata": {},
   "outputs": [],
   "source": [
    "GD.repulsion(\n",
    "    node_distance=100,\n",
    "    central_gravity=0.2,\n",
    "    spring_length=200,\n",
    "    spring_strength=0.05,\n",
    "    damping=0.09,\n",
    ")"
   ]
  },
  {
   "cell_type": "code",
   "execution_count": 30,
   "metadata": {},
   "outputs": [
    {
     "name": "stdout",
     "output_type": "stream",
     "text": [
      "G04.html\n"
     ]
    },
    {
     "data": {
      "text/html": [
       "\n",
       "        <iframe\n",
       "            width=\"100%\"\n",
       "            height=\"600px\"\n",
       "            src=\"G04.html\"\n",
       "            frameborder=\"0\"\n",
       "            allowfullscreen\n",
       "            \n",
       "        ></iframe>\n",
       "        "
      ],
      "text/plain": [
       "<IPython.lib.display.IFrame at 0x297a557f790>"
      ]
     },
     "execution_count": 30,
     "metadata": {},
     "output_type": "execute_result"
    }
   ],
   "source": [
    "GD.show('G04.html')"
   ]
  },
  {
   "cell_type": "code",
   "execution_count": 31,
   "metadata": {},
   "outputs": [
    {
     "name": "stdout",
     "output_type": "stream",
     "text": [
      "G05.html\n"
     ]
    },
    {
     "data": {
      "text/html": [
       "\n",
       "        <iframe\n",
       "            width=\"100%\"\n",
       "            height=\"600px\"\n",
       "            src=\"G05.html\"\n",
       "            frameborder=\"0\"\n",
       "            allowfullscreen\n",
       "            \n",
       "        ></iframe>\n",
       "        "
      ],
      "text/plain": [
       "<IPython.lib.display.IFrame at 0x297a78a0510>"
      ]
     },
     "execution_count": 31,
     "metadata": {},
     "output_type": "execute_result"
    }
   ],
   "source": [
    "GD.repulsion(\n",
    "    spring_length=400,\n",
    "    damping=0.01,\n",
    ")\n",
    "GD.show('G05.html')"
   ]
  },
  {
   "cell_type": "code",
   "execution_count": 32,
   "metadata": {},
   "outputs": [
    {
     "name": "stdout",
     "output_type": "stream",
     "text": [
      "Warning: When  cdn_resources is 'local' jupyter notebook has issues displaying graphics on chrome/safari. Use cdn_resources='in_line' or cdn_resources='remote' if you have issues viewing graphics in a notebook.\n"
     ]
    }
   ],
   "source": [
    "# usar o parâmetro directed=True\n",
    "GD = Network(\n",
    "    directed=True,\n",
    "    notebook=True\n",
    ")"
   ]
  },
  {
   "cell_type": "markdown",
   "metadata": {},
   "source": [
    "## Exemplo - Importand Rede Game of Thrones"
   ]
  },
  {
   "cell_type": "code",
   "execution_count": 33,
   "metadata": {},
   "outputs": [],
   "source": [
    "from pyvis.network import Network\n",
    "import pandas as pd\n",
    "\n",
    "G = Network(notebook=True,cdn_resources='in_line',height=\"750px\", width=\"100%\", bgcolor=\"#222222\", font_color=\"white\",select_menu=True)\n",
    "G.show_buttons(filter_=['physics'])\n",
    "G.toggle_physics(True)\n",
    "\n",
    "# set the physics layout of the network\n",
    "G.barnes_hut()\n",
    "G_data = pd.read_csv(\"stormofswords.csv\")\n",
    "\n",
    "sources = G_data['Source']\n",
    "targets = G_data['Target']\n",
    "weights = G_data['Weight']\n",
    "\n",
    "edge_data = zip(sources, targets, weights)\n",
    "\n",
    "for e in edge_data:\n",
    "                src = e[0]\n",
    "                dst = e[1]\n",
    "                w = e[2]\n",
    "\n",
    "                G.add_node(src, src, title=src)\n",
    "                G.add_node(dst, dst, title=dst)\n",
    "                G.add_edge(src, dst, value=w)\n",
    "\n",
    "neighbor_map = G.get_adj_list()\n",
    "\n",
    "# Informações de quem são os vizinhos do nó\n",
    "for node in G.nodes:\n",
    "                node[\"title\"] += \" Visinhos: \" + \",\".join(neighbor_map[node[\"id\"]])\n",
    "                node[\"value\"] = len(neighbor_map[node[\"id\"]])"
   ]
  },
  {
   "cell_type": "code",
   "execution_count": 34,
   "metadata": {},
   "outputs": [
    {
     "name": "stdout",
     "output_type": "stream",
     "text": [
      "gameofthrones.html\n"
     ]
    },
    {
     "data": {
      "text/html": [
       "\n",
       "        <iframe\n",
       "            width=\"100%\"\n",
       "            height=\"750px\"\n",
       "            src=\"gameofthrones.html\"\n",
       "            frameborder=\"0\"\n",
       "            allowfullscreen\n",
       "            \n",
       "        ></iframe>\n",
       "        "
      ],
      "text/plain": [
       "<IPython.lib.display.IFrame at 0x297a550c490>"
      ]
     },
     "execution_count": 34,
     "metadata": {},
     "output_type": "execute_result"
    }
   ],
   "source": [
    "G.show(\"gameofthrones.html\")"
   ]
  }
 ],
 "metadata": {
  "kernelspec": {
   "display_name": "base",
   "language": "python",
   "name": "python3"
  },
  "language_info": {
   "codemirror_mode": {
    "name": "ipython",
    "version": 3
   },
   "file_extension": ".py",
   "mimetype": "text/x-python",
   "name": "python",
   "nbconvert_exporter": "python",
   "pygments_lexer": "ipython3",
   "version": "3.11.5"
  }
 },
 "nbformat": 4,
 "nbformat_minor": 2
}
