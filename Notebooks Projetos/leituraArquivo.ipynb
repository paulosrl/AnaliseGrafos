{
 "cells": [
  {
   "cell_type": "code",
   "execution_count": null,
   "metadata": {},
   "outputs": [],
   "source": [
    "import ipywidgets as widgets\n",
    "from IPython.display import display\n",
    "import pandas as pd\n",
    "\n",
    "# Create a file dialog widget\n",
    "file_dialog = widgets.FileUpload()\n",
    "\n",
    "# Display the file dialog widget\n",
    "display(file_dialog)\n",
    "\n",
    "# Wait for the user to select a file\n",
    "while not file_dialog.value:\n",
    "    pass\n",
    "\n",
    "# Get the uploaded file\n",
    "uploaded_file = file_dialog.value[0] # type: ignore\n",
    "\n",
    "# Read the file into a pandas DataFrame\n",
    "df = pd.read_csv(uploaded_file)\n",
    "\n",
    "# Display the DataFrame\n",
    "df\n"
   ]
  }
 ],
 "metadata": {
  "kernelspec": {
   "display_name": "Python 3",
   "language": "python",
   "name": "python3"
  },
  "language_info": {
   "codemirror_mode": {
    "name": "ipython",
    "version": 3
   },
   "file_extension": ".py",
   "mimetype": "text/x-python",
   "name": "python",
   "nbconvert_exporter": "python",
   "pygments_lexer": "ipython3",
   "version": "3.11.6"
  }
 },
 "nbformat": 4,
 "nbformat_minor": 2
}
